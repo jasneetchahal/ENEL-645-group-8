{
  "nbformat": 4,
  "nbformat_minor": 0,
  "metadata": {
    "colab": {
      "name": "Augmented_data.ipynb",
      "provenance": [],
      "collapsed_sections": []
    },
    "kernelspec": {
      "name": "python3",
      "display_name": "Python 3"
    },
    "language_info": {
      "name": "python"
    },
    "accelerator": "GPU"
  },
  "cells": [
    {
      "cell_type": "code",
      "metadata": {
        "colab": {
          "base_uri": "https://localhost:8080/"
        },
        "id": "r-fk0oDlp3AM",
        "outputId": "bd3ed82c-06ed-4e7b-e833-1946b97529d5"
      },
      "source": [
        "pip install opencv-python"
      ],
      "execution_count": null,
      "outputs": [
        {
          "output_type": "stream",
          "name": "stdout",
          "text": [
            "\n",
            "The following command must be run outside of the IPython shell:\n",
            "\n",
            "    $ pip install opencv-python\n",
            "\n",
            "The Python package manager (pip) can only be used from outside of IPython.\n",
            "Please reissue the `pip` command in a separate terminal or command prompt.\n",
            "\n",
            "See the Python documentation for more information on how to install packages:\n",
            "\n",
            "    https://docs.python.org/3/installing/\n"
          ]
        }
      ]
    },
    {
      "cell_type": "markdown",
      "source": [
        ""
      ],
      "metadata": {
        "id": "SCoshk9LfQar"
      }
    },
    {
      "cell_type": "code",
      "metadata": {
        "id": "V-ENaETgw2zy",
        "colab": {
          "base_uri": "https://localhost:8080/"
        },
        "outputId": "f5456117-8788-4225-c651-1891ee0a3d14"
      },
      "source": [
        "from google.colab import drive\n",
        "drive.mount('/content/gdrive')"
      ],
      "execution_count": 14,
      "outputs": [
        {
          "output_type": "stream",
          "name": "stdout",
          "text": [
            "Drive already mounted at /content/gdrive; to attempt to forcibly remount, call drive.mount(\"/content/gdrive\", force_remount=True).\n"
          ]
        }
      ]
    },
    {
      "cell_type": "code",
      "metadata": {
        "id": "aIX4ORugruF3"
      },
      "source": [
        "import cv2\n",
        "import numpy as np\n",
        "from skimage import io \n",
        "from skimage.transform import rotate, AffineTransform, warp\n",
        "import matplotlib.pyplot as plt\n",
        "import random\n",
        "from skimage import img_as_ubyte\n",
        "import os\n",
        "from skimage.util import random_noise\n",
        "from PIL import Image"
      ],
      "execution_count": 15,
      "outputs": []
    },
    {
      "cell_type": "code",
      "metadata": {
        "id": "11nWhtpkrw8q"
      },
      "source": [
        "#Lets define functions for each operation\n",
        "def h_flip(image):\n",
        "    return  np.fliplr(image)\n",
        "\n",
        "def v_flip(image):\n",
        "    return np.flipud(image)\n",
        "\n",
        "def add_noise(image):\n",
        "    return random_noise(image)\n",
        "\n",
        "def blur_image(image):\n",
        "    return cv2.GaussianBlur(image, (9,9),0)\n",
        "    \n",
        "def anticlockwise_rotation_30(image):\n",
        "    return rotate(image, angle = 30)\n",
        "\n",
        "def clockwise_rotation_45(image):\n",
        "    return rotate(image, angle = -45)\n",
        "\n",
        "def anticlockwise_rotation_90(image):\n",
        "    return rotate(image, angle = 90)\n",
        "\n",
        "def anticlockwise_rotation_60(image):\n",
        "    return rotate(image, angle = 60)\n",
        "\n",
        "def clockwise_rotation_90(image):\n",
        "    return rotate(image, angle = -90)\n",
        "\n"
      ],
      "execution_count": 16,
      "outputs": []
    },
    {
      "cell_type": "code",
      "metadata": {
        "id": "yvpZHCcov806"
      },
      "source": [
        "# Dictionary containing all the possible transformations\n",
        "transformations = {\n",
        "                   'blurring image':blur_image,\n",
        "                   'horizontal flip': h_flip, \n",
        "                   'adding noise': add_noise,\n",
        "                   \n",
        "                   \n",
        "                 }"
      ],
      "execution_count": 17,
      "outputs": []
    },
    {
      "cell_type": "code",
      "source": [
        "print(range(len(transformations)-6))"
      ],
      "metadata": {
        "colab": {
          "base_uri": "https://localhost:8080/"
        },
        "id": "NaLdZ0YaC7j4",
        "outputId": "5a868856-52a8-48f5-f5b8-df0c819bb6c2"
      },
      "execution_count": null,
      "outputs": [
        {
          "output_type": "stream",
          "name": "stdout",
          "text": [
            "range(0, -3)\n"
          ]
        }
      ]
    },
    {
      "cell_type": "code",
      "metadata": {
        "id": "JX18DoH4v-qd",
        "colab": {
          "base_uri": "https://localhost:8080/"
        },
        "outputId": "538e5cc3-0385-4fc1-c8a7-5c24ec41df06"
      },
      "source": [
        "images_path=\"/content/gdrive/MyDrive/Python_Project_images/DataSet\" #path to original images\n",
        "print(images_path)\n",
        "augmented_path=\"/content/gdrive/MyDrive/Python_Project_images/Augmented_dataSet\" # path to store augmented images\n",
        "print(augmented_path)\n"
      ],
      "execution_count": 19,
      "outputs": [
        {
          "output_type": "stream",
          "name": "stdout",
          "text": [
            "/content/gdrive/MyDrive/Python_Project_images/DataSet\n",
            "/content/gdrive/MyDrive/Python_Project_images/Augmented_dataSet\n"
          ]
        }
      ]
    },
    {
      "cell_type": "code",
      "metadata": {
        "id": "g-457oRawnQQ",
        "colab": {
          "base_uri": "https://localhost:8080/"
        },
        "outputId": "2ca77838-a163-4b0c-8342-b92ad4f209d2"
      },
      "source": [
        "# Looping through the images for all the persons\n",
        "sub_dir_list = os.listdir(images_path )\n",
        "print(sub_dir_list)\n",
        "\n",
        "\n",
        "for i in range( len( sub_dir_list ) ):\n",
        "    print('Print i',i)\n",
        "    print('Inside the for loop')\n",
        "    image_names = os.listdir( os.path.join(images_path , sub_dir_list[i]) )\n",
        "    # looping through the each image of a particular person\n",
        "    for image_path in image_names:\n",
        "        # path of each image\n",
        "        path = os.path.join(images_path , sub_dir_list[i] , image_path )\n",
        "        image = io.imread(path)\n",
        "        keep_org = 0\n",
        "        for j in range(len(transformations)):\n",
        "            # Getting first key in dictionary\n",
        "            key = list(transformations.keys())[j]\n",
        "            print(transformations[key], key)\n",
        "            transformed_image = transformations[key](image)\n",
        "            out_path= \"%s/%s/%s_%s.jpg\" %(augmented_path, sub_dir_list[i], image_path.split('.')[0], str(j))\n",
        "            transformed_image = img_as_ubyte(transformed_image)  #Convert an image to unsigned byte format, with values in [0, 255].\n",
        "            transformed_image=cv2.cvtColor(transformed_image, cv2.COLOR_BGR2RGB) #convert image to RGB before saving it\n",
        "            cv2.imwrite(out_path, transformed_image)\n",
        "            if keep_org == 0:\n",
        "              out_path_org = \"%s_%s.jpg\"%(out_path.split('.')[0], \"org\")\n",
        "              cv2.imwrite(out_path_org, image)\n",
        "              keep_org = keep_org + 1\n"
      ],
      "execution_count": 22,
      "outputs": [
        {
          "output_type": "stream",
          "name": "stdout",
          "text": [
            "['Ramneek', 'Jasneet', 'Lakshmi', 'Parth', 'Ahmad', 'Ammaar']\n",
            "Print i 0\n",
            "Inside the for loop\n",
            "<function blur_image at 0x7f6eb8d99b00> blurring image\n",
            "<function h_flip at 0x7f6eb8d99dd0> horizontal flip\n",
            "<function add_noise at 0x7f6eb8d99ef0> adding noise\n",
            "<function blur_image at 0x7f6eb8d99b00> blurring image\n",
            "<function h_flip at 0x7f6eb8d99dd0> horizontal flip\n",
            "<function add_noise at 0x7f6eb8d99ef0> adding noise\n",
            "<function blur_image at 0x7f6eb8d99b00> blurring image\n",
            "<function h_flip at 0x7f6eb8d99dd0> horizontal flip\n",
            "<function add_noise at 0x7f6eb8d99ef0> adding noise\n",
            "<function blur_image at 0x7f6eb8d99b00> blurring image\n",
            "<function h_flip at 0x7f6eb8d99dd0> horizontal flip\n",
            "<function add_noise at 0x7f6eb8d99ef0> adding noise\n",
            "<function blur_image at 0x7f6eb8d99b00> blurring image\n",
            "<function h_flip at 0x7f6eb8d99dd0> horizontal flip\n",
            "<function add_noise at 0x7f6eb8d99ef0> adding noise\n",
            "<function blur_image at 0x7f6eb8d99b00> blurring image\n",
            "<function h_flip at 0x7f6eb8d99dd0> horizontal flip\n",
            "<function add_noise at 0x7f6eb8d99ef0> adding noise\n",
            "<function blur_image at 0x7f6eb8d99b00> blurring image\n",
            "<function h_flip at 0x7f6eb8d99dd0> horizontal flip\n",
            "<function add_noise at 0x7f6eb8d99ef0> adding noise\n",
            "<function blur_image at 0x7f6eb8d99b00> blurring image\n",
            "<function h_flip at 0x7f6eb8d99dd0> horizontal flip\n",
            "<function add_noise at 0x7f6eb8d99ef0> adding noise\n",
            "Print i 1\n",
            "Inside the for loop\n",
            "<function blur_image at 0x7f6eb8d99b00> blurring image\n",
            "<function h_flip at 0x7f6eb8d99dd0> horizontal flip\n",
            "<function add_noise at 0x7f6eb8d99ef0> adding noise\n",
            "<function blur_image at 0x7f6eb8d99b00> blurring image\n",
            "<function h_flip at 0x7f6eb8d99dd0> horizontal flip\n",
            "<function add_noise at 0x7f6eb8d99ef0> adding noise\n",
            "<function blur_image at 0x7f6eb8d99b00> blurring image\n",
            "<function h_flip at 0x7f6eb8d99dd0> horizontal flip\n",
            "<function add_noise at 0x7f6eb8d99ef0> adding noise\n",
            "<function blur_image at 0x7f6eb8d99b00> blurring image\n",
            "<function h_flip at 0x7f6eb8d99dd0> horizontal flip\n",
            "<function add_noise at 0x7f6eb8d99ef0> adding noise\n",
            "<function blur_image at 0x7f6eb8d99b00> blurring image\n",
            "<function h_flip at 0x7f6eb8d99dd0> horizontal flip\n",
            "<function add_noise at 0x7f6eb8d99ef0> adding noise\n",
            "<function blur_image at 0x7f6eb8d99b00> blurring image\n",
            "<function h_flip at 0x7f6eb8d99dd0> horizontal flip\n",
            "<function add_noise at 0x7f6eb8d99ef0> adding noise\n",
            "<function blur_image at 0x7f6eb8d99b00> blurring image\n",
            "<function h_flip at 0x7f6eb8d99dd0> horizontal flip\n",
            "<function add_noise at 0x7f6eb8d99ef0> adding noise\n",
            "<function blur_image at 0x7f6eb8d99b00> blurring image\n",
            "<function h_flip at 0x7f6eb8d99dd0> horizontal flip\n",
            "<function add_noise at 0x7f6eb8d99ef0> adding noise\n",
            "Print i 2\n",
            "Inside the for loop\n",
            "<function blur_image at 0x7f6eb8d99b00> blurring image\n",
            "<function h_flip at 0x7f6eb8d99dd0> horizontal flip\n",
            "<function add_noise at 0x7f6eb8d99ef0> adding noise\n",
            "<function blur_image at 0x7f6eb8d99b00> blurring image\n",
            "<function h_flip at 0x7f6eb8d99dd0> horizontal flip\n",
            "<function add_noise at 0x7f6eb8d99ef0> adding noise\n",
            "<function blur_image at 0x7f6eb8d99b00> blurring image\n",
            "<function h_flip at 0x7f6eb8d99dd0> horizontal flip\n",
            "<function add_noise at 0x7f6eb8d99ef0> adding noise\n",
            "<function blur_image at 0x7f6eb8d99b00> blurring image\n",
            "<function h_flip at 0x7f6eb8d99dd0> horizontal flip\n",
            "<function add_noise at 0x7f6eb8d99ef0> adding noise\n",
            "<function blur_image at 0x7f6eb8d99b00> blurring image\n",
            "<function h_flip at 0x7f6eb8d99dd0> horizontal flip\n",
            "<function add_noise at 0x7f6eb8d99ef0> adding noise\n",
            "<function blur_image at 0x7f6eb8d99b00> blurring image\n",
            "<function h_flip at 0x7f6eb8d99dd0> horizontal flip\n",
            "<function add_noise at 0x7f6eb8d99ef0> adding noise\n",
            "<function blur_image at 0x7f6eb8d99b00> blurring image\n",
            "<function h_flip at 0x7f6eb8d99dd0> horizontal flip\n",
            "<function add_noise at 0x7f6eb8d99ef0> adding noise\n",
            "<function blur_image at 0x7f6eb8d99b00> blurring image\n",
            "<function h_flip at 0x7f6eb8d99dd0> horizontal flip\n",
            "<function add_noise at 0x7f6eb8d99ef0> adding noise\n",
            "Print i 3\n",
            "Inside the for loop\n",
            "<function blur_image at 0x7f6eb8d99b00> blurring image\n",
            "<function h_flip at 0x7f6eb8d99dd0> horizontal flip\n",
            "<function add_noise at 0x7f6eb8d99ef0> adding noise\n",
            "<function blur_image at 0x7f6eb8d99b00> blurring image\n",
            "<function h_flip at 0x7f6eb8d99dd0> horizontal flip\n",
            "<function add_noise at 0x7f6eb8d99ef0> adding noise\n",
            "<function blur_image at 0x7f6eb8d99b00> blurring image\n",
            "<function h_flip at 0x7f6eb8d99dd0> horizontal flip\n",
            "<function add_noise at 0x7f6eb8d99ef0> adding noise\n",
            "<function blur_image at 0x7f6eb8d99b00> blurring image\n",
            "<function h_flip at 0x7f6eb8d99dd0> horizontal flip\n",
            "<function add_noise at 0x7f6eb8d99ef0> adding noise\n",
            "<function blur_image at 0x7f6eb8d99b00> blurring image\n",
            "<function h_flip at 0x7f6eb8d99dd0> horizontal flip\n",
            "<function add_noise at 0x7f6eb8d99ef0> adding noise\n",
            "<function blur_image at 0x7f6eb8d99b00> blurring image\n",
            "<function h_flip at 0x7f6eb8d99dd0> horizontal flip\n",
            "<function add_noise at 0x7f6eb8d99ef0> adding noise\n",
            "<function blur_image at 0x7f6eb8d99b00> blurring image\n",
            "<function h_flip at 0x7f6eb8d99dd0> horizontal flip\n",
            "<function add_noise at 0x7f6eb8d99ef0> adding noise\n",
            "<function blur_image at 0x7f6eb8d99b00> blurring image\n",
            "<function h_flip at 0x7f6eb8d99dd0> horizontal flip\n",
            "<function add_noise at 0x7f6eb8d99ef0> adding noise\n",
            "Print i 4\n",
            "Inside the for loop\n",
            "<function blur_image at 0x7f6eb8d99b00> blurring image\n",
            "<function h_flip at 0x7f6eb8d99dd0> horizontal flip\n",
            "<function add_noise at 0x7f6eb8d99ef0> adding noise\n",
            "<function blur_image at 0x7f6eb8d99b00> blurring image\n",
            "<function h_flip at 0x7f6eb8d99dd0> horizontal flip\n",
            "<function add_noise at 0x7f6eb8d99ef0> adding noise\n",
            "<function blur_image at 0x7f6eb8d99b00> blurring image\n",
            "<function h_flip at 0x7f6eb8d99dd0> horizontal flip\n",
            "<function add_noise at 0x7f6eb8d99ef0> adding noise\n",
            "<function blur_image at 0x7f6eb8d99b00> blurring image\n",
            "<function h_flip at 0x7f6eb8d99dd0> horizontal flip\n",
            "<function add_noise at 0x7f6eb8d99ef0> adding noise\n",
            "<function blur_image at 0x7f6eb8d99b00> blurring image\n",
            "<function h_flip at 0x7f6eb8d99dd0> horizontal flip\n",
            "<function add_noise at 0x7f6eb8d99ef0> adding noise\n",
            "<function blur_image at 0x7f6eb8d99b00> blurring image\n",
            "<function h_flip at 0x7f6eb8d99dd0> horizontal flip\n",
            "<function add_noise at 0x7f6eb8d99ef0> adding noise\n",
            "<function blur_image at 0x7f6eb8d99b00> blurring image\n",
            "<function h_flip at 0x7f6eb8d99dd0> horizontal flip\n",
            "<function add_noise at 0x7f6eb8d99ef0> adding noise\n",
            "<function blur_image at 0x7f6eb8d99b00> blurring image\n",
            "<function h_flip at 0x7f6eb8d99dd0> horizontal flip\n",
            "<function add_noise at 0x7f6eb8d99ef0> adding noise\n",
            "Print i 5\n",
            "Inside the for loop\n",
            "<function blur_image at 0x7f6eb8d99b00> blurring image\n",
            "<function h_flip at 0x7f6eb8d99dd0> horizontal flip\n",
            "<function add_noise at 0x7f6eb8d99ef0> adding noise\n",
            "<function blur_image at 0x7f6eb8d99b00> blurring image\n",
            "<function h_flip at 0x7f6eb8d99dd0> horizontal flip\n",
            "<function add_noise at 0x7f6eb8d99ef0> adding noise\n",
            "<function blur_image at 0x7f6eb8d99b00> blurring image\n",
            "<function h_flip at 0x7f6eb8d99dd0> horizontal flip\n",
            "<function add_noise at 0x7f6eb8d99ef0> adding noise\n",
            "<function blur_image at 0x7f6eb8d99b00> blurring image\n",
            "<function h_flip at 0x7f6eb8d99dd0> horizontal flip\n",
            "<function add_noise at 0x7f6eb8d99ef0> adding noise\n",
            "<function blur_image at 0x7f6eb8d99b00> blurring image\n",
            "<function h_flip at 0x7f6eb8d99dd0> horizontal flip\n",
            "<function add_noise at 0x7f6eb8d99ef0> adding noise\n",
            "<function blur_image at 0x7f6eb8d99b00> blurring image\n",
            "<function h_flip at 0x7f6eb8d99dd0> horizontal flip\n",
            "<function add_noise at 0x7f6eb8d99ef0> adding noise\n",
            "<function blur_image at 0x7f6eb8d99b00> blurring image\n",
            "<function h_flip at 0x7f6eb8d99dd0> horizontal flip\n",
            "<function add_noise at 0x7f6eb8d99ef0> adding noise\n",
            "<function blur_image at 0x7f6eb8d99b00> blurring image\n",
            "<function h_flip at 0x7f6eb8d99dd0> horizontal flip\n",
            "<function add_noise at 0x7f6eb8d99ef0> adding noise\n"
          ]
        }
      ]
    },
    {
      "cell_type": "code",
      "source": [
        ""
      ],
      "metadata": {
        "id": "P6BLlylGBvw-"
      },
      "execution_count": null,
      "outputs": []
    }
  ]
}