{
  "nbformat": 4,
  "nbformat_minor": 0,
  "metadata": {
    "colab": {
      "name": "Augmented_data.ipynb",
      "provenance": [],
      "collapsed_sections": []
    },
    "kernelspec": {
      "name": "python3",
      "display_name": "Python 3"
    },
    "language_info": {
      "name": "python"
    },
    "accelerator": "GPU"
  },
  "cells": [
    {
      "cell_type": "code",
      "metadata": {
        "colab": {
          "base_uri": "https://localhost:8080/"
        },
        "id": "r-fk0oDlp3AM",
        "outputId": "8f91d693-4e09-4d5b-935c-1be519470e31"
      },
      "source": [
        "pip install opencv-python"
      ],
      "execution_count": 1,
      "outputs": [
        {
          "output_type": "stream",
          "name": "stdout",
          "text": [
            "Requirement already satisfied: opencv-python in /usr/local/lib/python3.7/dist-packages (4.1.2.30)\n",
            "Requirement already satisfied: numpy>=1.14.5 in /usr/local/lib/python3.7/dist-packages (from opencv-python) (1.21.5)\n"
          ]
        }
      ]
    },
    {
      "cell_type": "code",
      "metadata": {
        "colab": {
          "base_uri": "https://localhost:8080/"
        },
        "id": "V-ENaETgw2zy",
        "outputId": "cb6e4307-6c8a-4838-bc95-19279e7d5f59"
      },
      "source": [
        "from google.colab import drive\n",
        "drive.mount('/content/gdrive')"
      ],
      "execution_count": 2,
      "outputs": [
        {
          "output_type": "stream",
          "name": "stdout",
          "text": [
            "Mounted at /content/gdrive\n"
          ]
        }
      ]
    },
    {
      "cell_type": "code",
      "metadata": {
        "id": "aIX4ORugruF3"
      },
      "source": [
        "import cv2\n",
        "import numpy as np\n",
        "from skimage import io \n",
        "from skimage.transform import rotate, AffineTransform, warp\n",
        "import matplotlib.pyplot as plt\n",
        "import random\n",
        "from skimage import img_as_ubyte\n",
        "import os\n",
        "from skimage.util import random_noise\n",
        "from PIL import Image"
      ],
      "execution_count": 3,
      "outputs": []
    },
    {
      "cell_type": "code",
      "metadata": {
        "id": "11nWhtpkrw8q"
      },
      "source": [
        "#Lets define functions for each operation\n",
        "def h_flip(image):\n",
        "    return  np.fliplr(image)\n",
        "\n",
        "def v_flip(image):\n",
        "    return np.flipud(image)\n",
        "\n",
        "def add_noise(image):\n",
        "    return random_noise(image)\n",
        "\n",
        "def blur_image(image):\n",
        "    return cv2.GaussianBlur(image, (9,9),0)\n",
        "    \n",
        "def anticlockwise_rotation_30(image):\n",
        "    return rotate(image, angle = 30)\n",
        "\n",
        "def clockwise_rotation_45(image):\n",
        "    return rotate(image, angle = -45)\n",
        "\n",
        "def anticlockwise_rotation_90(image):\n",
        "    return rotate(image, angle = 90)\n",
        "\n",
        "def anticlockwise_rotation_60(image):\n",
        "    return rotate(image, angle = 60)\n",
        "\n",
        "def clockwise_rotation_90(image):\n",
        "    return rotate(image, angle = -90)\n",
        "\n"
      ],
      "execution_count": 4,
      "outputs": []
    },
    {
      "cell_type": "code",
      "metadata": {
        "id": "yvpZHCcov806"
      },
      "source": [
        "# Dictionary containing all the possible transformations\n",
        "transformations = {\n",
        "                   'blurring image':blur_image,\n",
        "                   'horizontal flip': h_flip, \n",
        "                   'adding noise': add_noise,\n",
        "                   'rotate clockwise 45': clockwise_rotation_45,\n",
        "                   'rotate anticlockwise 90': anticlockwise_rotation_90,\n",
        "                   'rotate clockwise 90': clockwise_rotation_90,\n",
        "                   'rotate anticlockwise 60': anticlockwise_rotation_60,\n",
        "                    \n",
        "                  'vertical flip': v_flip,\n",
        "                   'rotate anticlockwise 30': anticlockwise_rotation_30,\n",
        "                   \n",
        "                   \n",
        "                 }"
      ],
      "execution_count": 18,
      "outputs": []
    },
    {
      "cell_type": "code",
      "source": [
        "print(range(len(transformations)-6))"
      ],
      "metadata": {
        "colab": {
          "base_uri": "https://localhost:8080/"
        },
        "id": "NaLdZ0YaC7j4",
        "outputId": "3d32226b-9123-45b3-a6aa-a07a1920121a"
      },
      "execution_count": 10,
      "outputs": [
        {
          "output_type": "stream",
          "name": "stdout",
          "text": [
            "range(0, 3)\n"
          ]
        }
      ]
    },
    {
      "cell_type": "code",
      "metadata": {
        "id": "JX18DoH4v-qd",
        "colab": {
          "base_uri": "https://localhost:8080/"
        },
        "outputId": "dd4f443f-75f8-4f9a-bb8f-3f2a3d46411a"
      },
      "source": [
        "images_path=\"/content/gdrive/MyDrive/Python_Project_images/DataSet\" #path to original images\n",
        "print(images_path)\n",
        "augmented_path=\"/content/gdrive/MyDrive/Python_Project_images/Augmented_dataSet\" # path to store augmented images\n",
        "print(augmented_path)"
      ],
      "execution_count": 19,
      "outputs": [
        {
          "output_type": "stream",
          "name": "stdout",
          "text": [
            "/content/gdrive/MyDrive/Python_Project_images/DataSet\n",
            "/content/gdrive/MyDrive/Python_Project_images/Augmented_dataSet\n"
          ]
        }
      ]
    },
    {
      "cell_type": "code",
      "metadata": {
        "id": "g-457oRawnQQ",
        "colab": {
          "base_uri": "https://localhost:8080/"
        },
        "outputId": "0047cb5d-30da-461f-c87d-657460fb6282"
      },
      "source": [
        "# Looping through the images for all the persons\n",
        "sub_dir_list = os.listdir(images_path )\n",
        "print(sub_dir_list)\n",
        "augmented_path=\"/content/gdrive/MyDrive/Python_Project_images/Augmented_dataSet\"\n",
        "\n",
        "for i in range( len( sub_dir_list ) ):\n",
        "    print('Print i',i)\n",
        "    print('Inside the for loop')\n",
        "    image_names = os.listdir( os.path.join(images_path , sub_dir_list[i]) )\n",
        "    # looping through the each image of a particular person\n",
        "    for image_path in image_names:\n",
        "        # path of each image\n",
        "        path = os.path.join(images_path , sub_dir_list[i] , image_path )\n",
        "        image = io.imread(path)\n",
        "        keep_org = 0\n",
        "        for j in range(len(transformations)-6):\n",
        "            # Getting first key in dictionary\n",
        "            key = list(transformations.keys())[j]\n",
        "            print(transformations[key], key)\n",
        "            transformed_image = transformations[key](image)\n",
        "            out_path= \"%s/%s/%s_%s.jpg\" %(augmented_path, sub_dir_list[i], image_path.split('.')[0], str(j))\n",
        "            transformed_image = img_as_ubyte(transformed_image)  #Convert an image to unsigned byte format, with values in [0, 255].\n",
        "            transformed_image=cv2.cvtColor(transformed_image, cv2.COLOR_BGR2RGB) #convert image to RGB before saving it\n",
        "            cv2.imwrite(out_path, transformed_image)\n",
        "            if keep_org == 0:\n",
        "              out_path_org = \"%s_%s.jpg\"%(out_path.split('.')[0], \"org\")\n",
        "              cv2.imwrite(out_path_org, image)\n",
        "              keep_org = keep_org + 1\n"
      ],
      "execution_count": 20,
      "outputs": [
        {
          "output_type": "stream",
          "name": "stdout",
          "text": [
            "['Ramneek', 'Jasneet', 'Lakshmi', 'Parth', 'Ahmad']\n",
            "Print i 0\n",
            "Inside the for loop\n",
            "<function blur_image at 0x7f2f211217a0> blurring image\n",
            "<function h_flip at 0x7f2f21121c20> horizontal flip\n",
            "<function add_noise at 0x7f2f21121b00> adding noise\n",
            "<function blur_image at 0x7f2f211217a0> blurring image\n",
            "<function h_flip at 0x7f2f21121c20> horizontal flip\n",
            "<function add_noise at 0x7f2f21121b00> adding noise\n",
            "<function blur_image at 0x7f2f211217a0> blurring image\n",
            "<function h_flip at 0x7f2f21121c20> horizontal flip\n",
            "<function add_noise at 0x7f2f21121b00> adding noise\n",
            "<function blur_image at 0x7f2f211217a0> blurring image\n",
            "<function h_flip at 0x7f2f21121c20> horizontal flip\n",
            "<function add_noise at 0x7f2f21121b00> adding noise\n",
            "<function blur_image at 0x7f2f211217a0> blurring image\n",
            "<function h_flip at 0x7f2f21121c20> horizontal flip\n",
            "<function add_noise at 0x7f2f21121b00> adding noise\n",
            "<function blur_image at 0x7f2f211217a0> blurring image\n",
            "<function h_flip at 0x7f2f21121c20> horizontal flip\n",
            "<function add_noise at 0x7f2f21121b00> adding noise\n",
            "<function blur_image at 0x7f2f211217a0> blurring image\n",
            "<function h_flip at 0x7f2f21121c20> horizontal flip\n",
            "<function add_noise at 0x7f2f21121b00> adding noise\n",
            "<function blur_image at 0x7f2f211217a0> blurring image\n",
            "<function h_flip at 0x7f2f21121c20> horizontal flip\n",
            "<function add_noise at 0x7f2f21121b00> adding noise\n",
            "Print i 1\n",
            "Inside the for loop\n",
            "<function blur_image at 0x7f2f211217a0> blurring image\n",
            "<function h_flip at 0x7f2f21121c20> horizontal flip\n",
            "<function add_noise at 0x7f2f21121b00> adding noise\n",
            "<function blur_image at 0x7f2f211217a0> blurring image\n",
            "<function h_flip at 0x7f2f21121c20> horizontal flip\n",
            "<function add_noise at 0x7f2f21121b00> adding noise\n",
            "<function blur_image at 0x7f2f211217a0> blurring image\n",
            "<function h_flip at 0x7f2f21121c20> horizontal flip\n",
            "<function add_noise at 0x7f2f21121b00> adding noise\n",
            "<function blur_image at 0x7f2f211217a0> blurring image\n",
            "<function h_flip at 0x7f2f21121c20> horizontal flip\n",
            "<function add_noise at 0x7f2f21121b00> adding noise\n",
            "<function blur_image at 0x7f2f211217a0> blurring image\n",
            "<function h_flip at 0x7f2f21121c20> horizontal flip\n",
            "<function add_noise at 0x7f2f21121b00> adding noise\n",
            "<function blur_image at 0x7f2f211217a0> blurring image\n",
            "<function h_flip at 0x7f2f21121c20> horizontal flip\n",
            "<function add_noise at 0x7f2f21121b00> adding noise\n",
            "<function blur_image at 0x7f2f211217a0> blurring image\n",
            "<function h_flip at 0x7f2f21121c20> horizontal flip\n",
            "<function add_noise at 0x7f2f21121b00> adding noise\n",
            "<function blur_image at 0x7f2f211217a0> blurring image\n",
            "<function h_flip at 0x7f2f21121c20> horizontal flip\n",
            "<function add_noise at 0x7f2f21121b00> adding noise\n",
            "Print i 2\n",
            "Inside the for loop\n",
            "<function blur_image at 0x7f2f211217a0> blurring image\n",
            "<function h_flip at 0x7f2f21121c20> horizontal flip\n",
            "<function add_noise at 0x7f2f21121b00> adding noise\n",
            "<function blur_image at 0x7f2f211217a0> blurring image\n",
            "<function h_flip at 0x7f2f21121c20> horizontal flip\n",
            "<function add_noise at 0x7f2f21121b00> adding noise\n",
            "<function blur_image at 0x7f2f211217a0> blurring image\n",
            "<function h_flip at 0x7f2f21121c20> horizontal flip\n",
            "<function add_noise at 0x7f2f21121b00> adding noise\n",
            "<function blur_image at 0x7f2f211217a0> blurring image\n",
            "<function h_flip at 0x7f2f21121c20> horizontal flip\n",
            "<function add_noise at 0x7f2f21121b00> adding noise\n",
            "<function blur_image at 0x7f2f211217a0> blurring image\n",
            "<function h_flip at 0x7f2f21121c20> horizontal flip\n",
            "<function add_noise at 0x7f2f21121b00> adding noise\n",
            "<function blur_image at 0x7f2f211217a0> blurring image\n",
            "<function h_flip at 0x7f2f21121c20> horizontal flip\n",
            "<function add_noise at 0x7f2f21121b00> adding noise\n",
            "<function blur_image at 0x7f2f211217a0> blurring image\n",
            "<function h_flip at 0x7f2f21121c20> horizontal flip\n",
            "<function add_noise at 0x7f2f21121b00> adding noise\n",
            "<function blur_image at 0x7f2f211217a0> blurring image\n",
            "<function h_flip at 0x7f2f21121c20> horizontal flip\n",
            "<function add_noise at 0x7f2f21121b00> adding noise\n",
            "Print i 3\n",
            "Inside the for loop\n",
            "<function blur_image at 0x7f2f211217a0> blurring image\n",
            "<function h_flip at 0x7f2f21121c20> horizontal flip\n",
            "<function add_noise at 0x7f2f21121b00> adding noise\n",
            "<function blur_image at 0x7f2f211217a0> blurring image\n",
            "<function h_flip at 0x7f2f21121c20> horizontal flip\n",
            "<function add_noise at 0x7f2f21121b00> adding noise\n",
            "<function blur_image at 0x7f2f211217a0> blurring image\n",
            "<function h_flip at 0x7f2f21121c20> horizontal flip\n",
            "<function add_noise at 0x7f2f21121b00> adding noise\n",
            "<function blur_image at 0x7f2f211217a0> blurring image\n",
            "<function h_flip at 0x7f2f21121c20> horizontal flip\n",
            "<function add_noise at 0x7f2f21121b00> adding noise\n",
            "<function blur_image at 0x7f2f211217a0> blurring image\n",
            "<function h_flip at 0x7f2f21121c20> horizontal flip\n",
            "<function add_noise at 0x7f2f21121b00> adding noise\n",
            "<function blur_image at 0x7f2f211217a0> blurring image\n",
            "<function h_flip at 0x7f2f21121c20> horizontal flip\n",
            "<function add_noise at 0x7f2f21121b00> adding noise\n",
            "<function blur_image at 0x7f2f211217a0> blurring image\n",
            "<function h_flip at 0x7f2f21121c20> horizontal flip\n",
            "<function add_noise at 0x7f2f21121b00> adding noise\n",
            "<function blur_image at 0x7f2f211217a0> blurring image\n",
            "<function h_flip at 0x7f2f21121c20> horizontal flip\n",
            "<function add_noise at 0x7f2f21121b00> adding noise\n",
            "Print i 4\n",
            "Inside the for loop\n",
            "<function blur_image at 0x7f2f211217a0> blurring image\n",
            "<function h_flip at 0x7f2f21121c20> horizontal flip\n",
            "<function add_noise at 0x7f2f21121b00> adding noise\n",
            "<function blur_image at 0x7f2f211217a0> blurring image\n",
            "<function h_flip at 0x7f2f21121c20> horizontal flip\n",
            "<function add_noise at 0x7f2f21121b00> adding noise\n",
            "<function blur_image at 0x7f2f211217a0> blurring image\n",
            "<function h_flip at 0x7f2f21121c20> horizontal flip\n",
            "<function add_noise at 0x7f2f21121b00> adding noise\n",
            "<function blur_image at 0x7f2f211217a0> blurring image\n",
            "<function h_flip at 0x7f2f21121c20> horizontal flip\n",
            "<function add_noise at 0x7f2f21121b00> adding noise\n",
            "<function blur_image at 0x7f2f211217a0> blurring image\n",
            "<function h_flip at 0x7f2f21121c20> horizontal flip\n",
            "<function add_noise at 0x7f2f21121b00> adding noise\n",
            "<function blur_image at 0x7f2f211217a0> blurring image\n",
            "<function h_flip at 0x7f2f21121c20> horizontal flip\n",
            "<function add_noise at 0x7f2f21121b00> adding noise\n",
            "<function blur_image at 0x7f2f211217a0> blurring image\n",
            "<function h_flip at 0x7f2f21121c20> horizontal flip\n",
            "<function add_noise at 0x7f2f21121b00> adding noise\n",
            "<function blur_image at 0x7f2f211217a0> blurring image\n",
            "<function h_flip at 0x7f2f21121c20> horizontal flip\n",
            "<function add_noise at 0x7f2f21121b00> adding noise\n"
          ]
        }
      ]
    },
    {
      "cell_type": "code",
      "source": [
        ""
      ],
      "metadata": {
        "id": "P6BLlylGBvw-"
      },
      "execution_count": null,
      "outputs": []
    }
  ]
}