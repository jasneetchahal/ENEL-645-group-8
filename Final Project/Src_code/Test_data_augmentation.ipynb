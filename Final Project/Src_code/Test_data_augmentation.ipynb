{
  "cells": [
    {
      "cell_type": "markdown",
      "metadata": {
        "id": "view-in-github",
        "colab_type": "text"
      },
      "source": [
        "<a href=\"https://colab.research.google.com/github/jasneetchahal/ENEL-645-group-8/blob/main/Test_data_augmentation.ipynb\" target=\"_parent\"><img src=\"https://colab.research.google.com/assets/colab-badge.svg\" alt=\"Open In Colab\"/></a>"
      ]
    },
    {
      "cell_type": "code",
      "execution_count": null,
      "metadata": {
        "id": "7jlaR26AO4yI"
      },
      "outputs": [],
      "source": [
        "import os\n",
        "from skimage import io \n",
        "from skimage.transform import rotate, AffineTransform, warp\n",
        "from skimage import img_as_ubyte\n",
        "from skimage.util import random_noise\n",
        "from PIL import Image\n",
        "import cv2"
      ]
    },
    {
      "cell_type": "code",
      "execution_count": null,
      "metadata": {
        "colab": {
          "base_uri": "https://localhost:8080/"
        },
        "id": "cq4IWdv3Scpe",
        "outputId": "2298a239-cf03-45e2-f922-78d5619db6a1"
      },
      "outputs": [
        {
          "output_type": "stream",
          "name": "stdout",
          "text": [
            "Mounted at /content/gdrive\n"
          ]
        }
      ],
      "source": [
        "from google.colab import drive\n",
        "drive.mount('/content/gdrive')"
      ]
    },
    {
      "cell_type": "code",
      "execution_count": null,
      "metadata": {
        "id": "WK9QJCv8STq0"
      },
      "outputs": [],
      "source": [
        "def anticlockwise_rotation_45(image):\n",
        "    return rotate(image, angle = 45)\n",
        "\n",
        "def clockwise_rotation_45(image):\n",
        "    return rotate(image, angle = -45)"
      ]
    },
    {
      "cell_type": "code",
      "execution_count": null,
      "metadata": {
        "id": "rM0lCzEoSFIN"
      },
      "outputs": [],
      "source": [
        "images_path1=\"/content/gdrive/MyDrive/ENEL645_project/Python_Project_images/Test_DataSet\" \n",
        "augmented_path1=\"/content/gdrive/MyDrive/ENEL645_project/Python_Project_images/Augmented_TestDataSet\" "
      ]
    },
    {
      "cell_type": "code",
      "execution_count": null,
      "metadata": {
        "colab": {
          "base_uri": "https://localhost:8080/"
        },
        "id": "4UYQYuXUSLsQ",
        "outputId": "8f80e28c-351c-4800-a83c-7f75db779d9d"
      },
      "outputs": [
        {
          "output_type": "stream",
          "name": "stdout",
          "text": [
            "/content/gdrive/MyDrive/ENEL645_project/Python_Project_images/Augmented_TestDataSetAhmad_Test_image_1_new1.jpg\n",
            "/content/gdrive/MyDrive/ENEL645_project/Python_Project_images/Augmented_TestDataSetAhmad_Test_image_1_new2.jpg\n",
            "/content/gdrive/MyDrive/ENEL645_project/Python_Project_images/Augmented_TestDataSetAmmaar_Test_image_1_new1.jpg\n",
            "/content/gdrive/MyDrive/ENEL645_project/Python_Project_images/Augmented_TestDataSetAmmaar_Test_image_1_new2.jpg\n",
            "/content/gdrive/MyDrive/ENEL645_project/Python_Project_images/Augmented_TestDataSetJasneet_Test_image_1_new1.jpg\n",
            "/content/gdrive/MyDrive/ENEL645_project/Python_Project_images/Augmented_TestDataSetJasneet_Test_image_1_new2.jpg\n",
            "/content/gdrive/MyDrive/ENEL645_project/Python_Project_images/Augmented_TestDataSetAhmad_Test_image_2_new1.jpg\n",
            "/content/gdrive/MyDrive/ENEL645_project/Python_Project_images/Augmented_TestDataSetAhmad_Test_image_2_new2.jpg\n",
            "/content/gdrive/MyDrive/ENEL645_project/Python_Project_images/Augmented_TestDataSetAmmaar_Test_image_2_new1.jpg\n",
            "/content/gdrive/MyDrive/ENEL645_project/Python_Project_images/Augmented_TestDataSetAmmaar_Test_image_2_new2.jpg\n",
            "/content/gdrive/MyDrive/ENEL645_project/Python_Project_images/Augmented_TestDataSetJasneet_Test_image_2_new1.jpg\n",
            "/content/gdrive/MyDrive/ENEL645_project/Python_Project_images/Augmented_TestDataSetJasneet_Test_image_2_new2.jpg\n",
            "/content/gdrive/MyDrive/ENEL645_project/Python_Project_images/Augmented_TestDataSetLakshmi_Test_image_1_new1.jpg\n",
            "/content/gdrive/MyDrive/ENEL645_project/Python_Project_images/Augmented_TestDataSetLakshmi_Test_image_1_new2.jpg\n",
            "/content/gdrive/MyDrive/ENEL645_project/Python_Project_images/Augmented_TestDataSetLakshmi_Test_image_2_new1.jpg\n",
            "/content/gdrive/MyDrive/ENEL645_project/Python_Project_images/Augmented_TestDataSetLakshmi_Test_image_2_new2.jpg\n",
            "/content/gdrive/MyDrive/ENEL645_project/Python_Project_images/Augmented_TestDataSetParth_Test_image_1_new1.jpg\n",
            "/content/gdrive/MyDrive/ENEL645_project/Python_Project_images/Augmented_TestDataSetParth_Test_image_1_new2.jpg\n",
            "/content/gdrive/MyDrive/ENEL645_project/Python_Project_images/Augmented_TestDataSetParth_Test_image_2_new1.jpg\n",
            "/content/gdrive/MyDrive/ENEL645_project/Python_Project_images/Augmented_TestDataSetParth_Test_image_2_new2.jpg\n",
            "/content/gdrive/MyDrive/ENEL645_project/Python_Project_images/Augmented_TestDataSetRamneek_Test_image_1_new1.jpg\n",
            "/content/gdrive/MyDrive/ENEL645_project/Python_Project_images/Augmented_TestDataSetRamneek_Test_image_1_new2.jpg\n",
            "/content/gdrive/MyDrive/ENEL645_project/Python_Project_images/Augmented_TestDataSetRamneek_Test_image_2_new1.jpg\n",
            "/content/gdrive/MyDrive/ENEL645_project/Python_Project_images/Augmented_TestDataSetRamneek_Test_image_2_new2.jpg\n"
          ]
        }
      ],
      "source": [
        "# Generating the new test data\n",
        "sub_dir_list = os.listdir(images_path1 )\n",
        "for i in range( len( sub_dir_list ) ):\n",
        "    \n",
        "    image_names_path = os.path.join(images_path1 , sub_dir_list[i])\n",
        "    #print(image_names_path)\n",
        "    image = io.imread(image_names_path)\n",
        "    transformed_image1 = anticlockwise_rotation_45(image)\n",
        "    transformed_image2 = clockwise_rotation_45(image)\n",
        "    out_path1= \"%s%s_%s.jpg\" %(augmented_path1, sub_dir_list[i].split('.')[0], \"new1\")\n",
        "    out_path2= \"%s%s_%s.jpg\" %(augmented_path1, sub_dir_list[i].split('.')[0], \"new2\")\n",
        "    print(out_path1)\n",
        "    print(out_path2)\n",
        "    transformed_image1 = img_as_ubyte(transformed_image1)\n",
        "    transformed_image2 = img_as_ubyte(transformed_image2)\n",
        "    transformed_image1=cv2.cvtColor(transformed_image1, cv2.COLOR_BGR2RGB)\n",
        "    transformed_image2=cv2.cvtColor(transformed_image2, cv2.COLOR_BGR2RGB)\n",
        "    cv2.imwrite(out_path1, transformed_image1)\n",
        "    cv2.imwrite(out_path2, transformed_image2)\n",
        "  \n",
        "    "
      ]
    }
  ],
  "metadata": {
    "colab": {
      "name": "Test_data_augmentation.ipynb",
      "provenance": [],
      "collapsed_sections": [],
      "include_colab_link": true
    },
    "kernelspec": {
      "display_name": "Python 3",
      "language": "python",
      "name": "python3"
    },
    "language_info": {
      "codemirror_mode": {
        "name": "ipython",
        "version": 3
      },
      "file_extension": ".py",
      "mimetype": "text/x-python",
      "name": "python",
      "nbconvert_exporter": "python",
      "pygments_lexer": "ipython3",
      "version": "3.8.5"
    }
  },
  "nbformat": 4,
  "nbformat_minor": 0
}