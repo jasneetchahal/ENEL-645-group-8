{
 "cells": [
  {
   "cell_type": "markdown",
   "id": "a7dac8ff",
   "metadata": {},
   "source": [
    "# Assignment #01\n",
    "\n",
    "This assignment is composed of multiple Python and NumPy programming exercises. The deliverable of this assignment is this jupyter-notebook completed with your solution.\n",
    "\n",
    "The delivery instructions are the following:\n",
    "    - Create a GitHub repository for your team. You are free to choose its name. This repository will be used to delvier the programming assignments and the code of your team's final project.\n",
    "    - Create a folder assignment-01 in the repository. Put the jupyter-notebook with your solution in this repository and post the repository link in your team's D2L dropbox for the assignment.\n",
    "\n",
    "You are being assessed based on:\n",
    "\n",
    "1. Code execution - 25% \n",
    "2. Clarity of the code (e.g., easy to follow, has pertinent comments, etc.) - 25%\n",
    "3. Proper usage of the techniques seen in class - 25%\n",
    "    - remember to avoid explicit Python loops!  \n",
    "4. Quality and correcteness of the results - 25%\n",
    "\n",
    "More details about the assessment are available in the rubric document in the class GitHub repository.\n",
    "\n",
    "Points distribution:\n",
    "- Question 2-21: 3 points per question \n",
    "- Questions 22-26: 8 points per question (total 40)\n",
    "- Total: 100 ponits"
   ]
  },
  {
   "cell_type": "code",
   "execution_count": 1,
   "id": "8d79e6f4",
   "metadata": {},
   "outputs": [],
   "source": [
    "import matplotlib.pylab as plt"
   ]
  },
  {
   "cell_type": "markdown",
   "id": "52fa886c",
   "metadata": {},
   "source": [
    "**1. Import the numpy package under the name np**"
   ]
  },
  {
   "cell_type": "code",
   "execution_count": 2,
   "id": "740f5f1a",
   "metadata": {},
   "outputs": [],
   "source": [
    "import numpy as np # importing Numpy library with a nickname (np)"
   ]
  },
  {
   "cell_type": "markdown",
   "id": "9b8672bd",
   "metadata": {},
   "source": [
    "**2. Print the numpy version and the configuration**"
   ]
  },
  {
   "cell_type": "code",
   "execution_count": 3,
   "id": "eab48fb3",
   "metadata": {},
   "outputs": [
    {
     "name": "stdout",
     "output_type": "stream",
     "text": [
      "1.16.6\n",
      "mkl_info:\n",
      "    libraries = ['mkl_rt']\n",
      "    library_dirs = ['D:/Anaconda/envs/ensf-ml\\\\Library\\\\lib']\n",
      "    define_macros = [('SCIPY_MKL_H', None), ('HAVE_CBLAS', None)]\n",
      "    include_dirs = ['C:\\\\Program Files (x86)\\\\IntelSWTools\\\\compilers_and_libraries_2019.0.117\\\\windows\\\\mkl', 'C:\\\\Program Files (x86)\\\\IntelSWTools\\\\compilers_and_libraries_2019.0.117\\\\windows\\\\mkl\\\\include', 'C:\\\\Program Files (x86)\\\\IntelSWTools\\\\compilers_and_libraries_2019.0.117\\\\windows\\\\mkl\\\\lib', 'D:/Anaconda/envs/ensf-ml\\\\Library\\\\include']\n",
      "blas_mkl_info:\n",
      "    libraries = ['mkl_rt']\n",
      "    library_dirs = ['D:/Anaconda/envs/ensf-ml\\\\Library\\\\lib']\n",
      "    define_macros = [('SCIPY_MKL_H', None), ('HAVE_CBLAS', None)]\n",
      "    include_dirs = ['C:\\\\Program Files (x86)\\\\IntelSWTools\\\\compilers_and_libraries_2019.0.117\\\\windows\\\\mkl', 'C:\\\\Program Files (x86)\\\\IntelSWTools\\\\compilers_and_libraries_2019.0.117\\\\windows\\\\mkl\\\\include', 'C:\\\\Program Files (x86)\\\\IntelSWTools\\\\compilers_and_libraries_2019.0.117\\\\windows\\\\mkl\\\\lib', 'D:/Anaconda/envs/ensf-ml\\\\Library\\\\include']\n",
      "blas_opt_info:\n",
      "    libraries = ['mkl_rt']\n",
      "    library_dirs = ['D:/Anaconda/envs/ensf-ml\\\\Library\\\\lib']\n",
      "    define_macros = [('SCIPY_MKL_H', None), ('HAVE_CBLAS', None)]\n",
      "    include_dirs = ['C:\\\\Program Files (x86)\\\\IntelSWTools\\\\compilers_and_libraries_2019.0.117\\\\windows\\\\mkl', 'C:\\\\Program Files (x86)\\\\IntelSWTools\\\\compilers_and_libraries_2019.0.117\\\\windows\\\\mkl\\\\include', 'C:\\\\Program Files (x86)\\\\IntelSWTools\\\\compilers_and_libraries_2019.0.117\\\\windows\\\\mkl\\\\lib', 'D:/Anaconda/envs/ensf-ml\\\\Library\\\\include']\n",
      "lapack_mkl_info:\n",
      "    libraries = ['mkl_rt']\n",
      "    library_dirs = ['D:/Anaconda/envs/ensf-ml\\\\Library\\\\lib']\n",
      "    define_macros = [('SCIPY_MKL_H', None), ('HAVE_CBLAS', None)]\n",
      "    include_dirs = ['C:\\\\Program Files (x86)\\\\IntelSWTools\\\\compilers_and_libraries_2019.0.117\\\\windows\\\\mkl', 'C:\\\\Program Files (x86)\\\\IntelSWTools\\\\compilers_and_libraries_2019.0.117\\\\windows\\\\mkl\\\\include', 'C:\\\\Program Files (x86)\\\\IntelSWTools\\\\compilers_and_libraries_2019.0.117\\\\windows\\\\mkl\\\\lib', 'D:/Anaconda/envs/ensf-ml\\\\Library\\\\include']\n",
      "lapack_opt_info:\n",
      "    libraries = ['mkl_rt']\n",
      "    library_dirs = ['D:/Anaconda/envs/ensf-ml\\\\Library\\\\lib']\n",
      "    define_macros = [('SCIPY_MKL_H', None), ('HAVE_CBLAS', None)]\n",
      "    include_dirs = ['C:\\\\Program Files (x86)\\\\IntelSWTools\\\\compilers_and_libraries_2019.0.117\\\\windows\\\\mkl', 'C:\\\\Program Files (x86)\\\\IntelSWTools\\\\compilers_and_libraries_2019.0.117\\\\windows\\\\mkl\\\\include', 'C:\\\\Program Files (x86)\\\\IntelSWTools\\\\compilers_and_libraries_2019.0.117\\\\windows\\\\mkl\\\\lib', 'D:/Anaconda/envs/ensf-ml\\\\Library\\\\include']\n",
      "None\n"
     ]
    }
   ],
   "source": [
    "print(np.__version__)\n",
    "print(np.show_config())"
   ]
  },
  {
   "cell_type": "markdown",
   "id": "689cf69c",
   "metadata": {},
   "source": [
    "**3. Create a 1D array of zeros of size 10 of type float32**"
   ]
  },
  {
   "cell_type": "code",
   "execution_count": 4,
   "id": "6de47537",
   "metadata": {},
   "outputs": [
    {
     "name": "stdout",
     "output_type": "stream",
     "text": [
      "[0. 0. 0. 0. 0. 0. 0. 0. 0. 0.]\n"
     ]
    }
   ],
   "source": [
    "array_1d = np.zeros( (10), dtype='float32' )\n",
    "print(array_1d)"
   ]
  },
  {
   "cell_type": "markdown",
   "id": "f9120895",
   "metadata": {},
   "source": [
    "**4. Print the memory size of the array below**"
   ]
  },
  {
   "cell_type": "code",
   "execution_count": 5,
   "id": "e5b2fb68",
   "metadata": {},
   "outputs": [
    {
     "name": "stdout",
     "output_type": "stream",
     "text": [
      "384\n"
     ]
    }
   ],
   "source": [
    "Z = np.zeros((32,12))\n",
    "# Include your solution below\n",
    "print(Z.size)"
   ]
  },
  {
   "cell_type": "markdown",
   "id": "ed7db7fb",
   "metadata": {},
   "source": [
    "**5. Create a 1D array with values ranging from 10 to 58**"
   ]
  },
  {
   "cell_type": "code",
   "execution_count": 6,
   "id": "42303b02",
   "metadata": {},
   "outputs": [
    {
     "name": "stdout",
     "output_type": "stream",
     "text": [
      "[10 11 12 13 14 15 16 17 18 19 20 21 22 23 24 25 26 27 28 29 30 31 32 33\n",
      " 34 35 36 37 38 39 40 41 42 43 44 45 46 47 48 49 50 51 52 53 54 55 56 57\n",
      " 58]\n"
     ]
    }
   ],
   "source": [
    "array_seq = np.arange(10,59)\n",
    "print(array_seq)"
   ]
  },
  {
   "cell_type": "markdown",
   "id": "c9ce2ea3",
   "metadata": {},
   "source": [
    "**6. Reverse the order of the values in the vector (first element becomes last)**"
   ]
  },
  {
   "cell_type": "code",
   "execution_count": 7,
   "id": "222ed15d",
   "metadata": {},
   "outputs": [
    {
     "name": "stdout",
     "output_type": "stream",
     "text": [
      "[9 8 7 6 5 4 3 2 1 0]\n"
     ]
    }
   ],
   "source": [
    "a = np.arange(10)\n",
    "# Include your solution below\n",
    "print(a[::-1])"
   ]
  },
  {
   "cell_type": "markdown",
   "id": "9c4c66ec",
   "metadata": {},
   "source": [
    "**7. Create a 3x3 matrix with values ranging from 0 to 8**"
   ]
  },
  {
   "cell_type": "code",
   "execution_count": 8,
   "id": "1d7ad0fd",
   "metadata": {},
   "outputs": [
    {
     "name": "stdout",
     "output_type": "stream",
     "text": [
      "[[0 1 2]\n",
      " [3 4 5]\n",
      " [6 7 8]]\n"
     ]
    }
   ],
   "source": [
    "array_2d = np.arange(9).reshape(3,3)\n",
    "print(array_2d)"
   ]
  },
  {
   "cell_type": "markdown",
   "id": "0beda347",
   "metadata": {},
   "source": [
    "**8. Create a 3x3 identity matrix**"
   ]
  },
  {
   "cell_type": "code",
   "execution_count": 9,
   "id": "3b677fe0",
   "metadata": {},
   "outputs": [
    {
     "name": "stdout",
     "output_type": "stream",
     "text": [
      "[[1. 0. 0.]\n",
      " [0. 1. 0.]\n",
      " [0. 0. 1.]]\n"
     ]
    }
   ],
   "source": [
    "id_matrix = np.identity(3)\n",
    "print(id_matrix)"
   ]
  },
  {
   "cell_type": "markdown",
   "id": "b4e86b48",
   "metadata": {},
   "source": [
    "**9. Find and print the maximum values of each column in the array below** "
   ]
  },
  {
   "cell_type": "code",
   "execution_count": 10,
   "id": "85bc160c",
   "metadata": {},
   "outputs": [
    {
     "name": "stdout",
     "output_type": "stream",
     "text": [
      "[0.93271969 0.81089225 0.82362234 0.8510262  0.92072747 0.94168968\n",
      " 0.97107242 0.96649743 0.92084781 0.92061396 0.97387081]\n"
     ]
    }
   ],
   "source": [
    "Z = np.random.random((10,11))\n",
    "# Include your solution below\n",
    "max = Z.max(axis = 0)\n",
    "print(max)"
   ]
  },
  {
   "cell_type": "markdown",
   "id": "091f6d71",
   "metadata": {},
   "source": [
    "**10. Create a $7 \\times 7$ array with 1s on the borders (first row and column, last row and columns) and 0s everywhere else**"
   ]
  },
  {
   "cell_type": "code",
   "execution_count": 11,
   "id": "e6dd7213",
   "metadata": {},
   "outputs": [
    {
     "name": "stdout",
     "output_type": "stream",
     "text": [
      "[[1. 1. 1. 1. 1. 1. 1.]\n",
      " [1. 0. 0. 0. 0. 0. 1.]\n",
      " [1. 0. 0. 0. 0. 0. 1.]\n",
      " [1. 0. 0. 0. 0. 0. 1.]\n",
      " [1. 0. 0. 0. 0. 0. 1.]\n",
      " [1. 0. 0. 0. 0. 0. 1.]\n",
      " [1. 1. 1. 1. 1. 1. 1.]]\n"
     ]
    }
   ],
   "source": [
    "x = np.ones((7,7))\n",
    "x[1:-1,1:-1] = 0\n",
    "print(x)"
   ]
  },
  {
   "cell_type": "markdown",
   "id": "ea8dbc9d",
   "metadata": {},
   "source": [
    "**11. Pad the existing array below with zeros (i.e., add additional rows and columns with zeros). Use the NumPy pad function.**"
   ]
  },
  {
   "cell_type": "code",
   "execution_count": 12,
   "id": "fcd8392a",
   "metadata": {},
   "outputs": [
    {
     "name": "stdout",
     "output_type": "stream",
     "text": [
      "[[0. 0. 0. 0. 0. 0. 0.]\n",
      " [0. 1. 1. 1. 1. 1. 0.]\n",
      " [0. 1. 1. 1. 1. 1. 0.]\n",
      " [0. 1. 1. 1. 1. 1. 0.]\n",
      " [0. 1. 1. 1. 1. 1. 0.]\n",
      " [0. 1. 1. 1. 1. 1. 0.]\n",
      " [0. 0. 0. 0. 0. 0. 0.]]\n"
     ]
    }
   ],
   "source": [
    "Z = np.ones((5,5))\n",
    "# Include your solution below\n",
    "paded = np.pad(Z, 1,\"constant\")\n",
    "print(paded)"
   ]
  },
  {
   "cell_type": "markdown",
   "id": "7f32252a",
   "metadata": {},
   "source": [
    "**12. Extract the integer part of the random array of positive numbers below**"
   ]
  },
  {
   "cell_type": "code",
   "execution_count": 13,
   "id": "d8487571",
   "metadata": {},
   "outputs": [
    {
     "name": "stdout",
     "output_type": "stream",
     "text": [
      "[8 7 0 2 3 2 9 1 4 1]\n"
     ]
    }
   ],
   "source": [
    "Z = np.random.uniform(0,10,10)\n",
    "# Include your solution below\n",
    "print(Z.astype(int))"
   ]
  },
  {
   "cell_type": "markdown",
   "id": "27be92b1",
   "metadata": {},
   "source": [
    "**13. Create a 5x5 matrix with rows with equal values ranging from 0 to 4 (i.e., [0,1,2,3,4])**\n",
    "\n",
    "*Hint:* consider using NumPy broadcasting or the tile function*"
   ]
  },
  {
   "cell_type": "code",
   "execution_count": 14,
   "id": "3844b572",
   "metadata": {},
   "outputs": [
    {
     "name": "stdout",
     "output_type": "stream",
     "text": [
      "[[0. 0. 0. 0. 0.]\n",
      " [1. 1. 1. 1. 1.]\n",
      " [2. 2. 2. 2. 2.]\n",
      " [3. 3. 3. 3. 3.]\n",
      " [4. 4. 4. 4. 4.]]\n"
     ]
    }
   ],
   "source": [
    "matrix_5 = np.zeros((5,5))\n",
    "matrix_5 += np.arange(5)\n",
    "matrix_5T = matrix_5.T\n",
    "print(matrix_5T)"
   ]
  },
  {
   "cell_type": "markdown",
   "id": "734c441b",
   "metadata": {},
   "source": [
    "**14. Create a vector of size 10 with values ranging from 0 to 1 (0 and 1 not included)**\n",
    "\n",
    "*Hint: Consider using the linspace function*"
   ]
  },
  {
   "cell_type": "code",
   "execution_count": 15,
   "id": "3c4941e0",
   "metadata": {},
   "outputs": [
    {
     "name": "stdout",
     "output_type": "stream",
     "text": [
      "[0.1  0.19 0.28 0.37 0.46 0.55 0.64 0.73 0.82 0.91]\n"
     ]
    }
   ],
   "source": [
    "print(np.linspace( 0.1, 1, 10, endpoint=False )) "
   ]
  },
  {
   "cell_type": "markdown",
   "id": "ead3f6a2",
   "metadata": {},
   "source": [
    "**15. Create a random vector of size 10 and sort it**"
   ]
  },
  {
   "cell_type": "code",
   "execution_count": 16,
   "id": "42891f18",
   "metadata": {},
   "outputs": [
    {
     "name": "stdout",
     "output_type": "stream",
     "text": [
      "[0.02401679 0.3555689  0.36236208 0.40362698 0.55907343 0.5818844\n",
      " 0.62179507 0.7178487  0.83026846 0.8395964 ]\n"
     ]
    }
   ],
   "source": [
    "vec = np.random.random(10)\n",
    "vec_sorted = np.sort(vec) \n",
    "print(vec_sorted)"
   ]
  },
  {
   "cell_type": "markdown",
   "id": "12a65b0d",
   "metadata": {},
   "source": [
    "**16. Consider the cartesian coordinates below (X and Y), convert them to polar coordinates (R and T)**"
   ]
  },
  {
   "cell_type": "code",
   "execution_count": 17,
   "id": "026739aa",
   "metadata": {},
   "outputs": [
    {
     "name": "stdout",
     "output_type": "stream",
     "text": [
      "[0.54194855 1.02236099 0.76886789 0.26899844 1.12369003 0.27270837\n",
      " 0.94847777 0.80331334 1.34104478 0.84625141]\n",
      "[1.05558841 0.91185301 0.43217193 1.18152656 0.83064047 1.42417441\n",
      " 0.3564879  0.85219068 0.80332209 1.15048665]\n"
     ]
    }
   ],
   "source": [
    "Z = np.random.random((10,2))\n",
    "X,Y = Z[:,0], Z[:,1]\n",
    "# Include your solution below\n",
    "R = np.sqrt(X**2+Y**2)\n",
    "T = np.arctan2(Y,X)\n",
    "print(R)\n",
    "print(T)"
   ]
  },
  {
   "cell_type": "markdown",
   "id": "24a38fb1",
   "metadata": {},
   "source": [
    "**17. Create random vector of size 10 and replace the maximum value by 0**"
   ]
  },
  {
   "cell_type": "code",
   "execution_count": 18,
   "id": "51a80093",
   "metadata": {},
   "outputs": [
    {
     "name": "stdout",
     "output_type": "stream",
     "text": [
      "[0.         0.86625034 0.28781347 0.4042826  0.74963956 0.19115327\n",
      " 0.38924323 0.00808474 0.92620984 0.47055621]\n"
     ]
    }
   ],
   "source": [
    "vec = np.random.random(10)\n",
    "vec[vec.argmax()] = 0\n",
    "print(vec)"
   ]
  },
  {
   "cell_type": "markdown",
   "id": "f5dd11b7",
   "metadata": {},
   "source": [
    "**18. Find the nearest value from a given value (z) in an array (Z)**"
   ]
  },
  {
   "cell_type": "code",
   "execution_count": 19,
   "id": "f2689400",
   "metadata": {},
   "outputs": [
    {
     "name": "stdout",
     "output_type": "stream",
     "text": [
      "0.4938706573168211\n"
     ]
    }
   ],
   "source": [
    "Z = np.random.uniform(0,1,10)\n",
    "z = 0.5\n",
    "# Include your solution below\n",
    "absolute_val_array = np.abs(Z - z)\n",
    "print(Z[absolute_val_array.argmin()])"
   ]
  },
  {
   "cell_type": "markdown",
   "id": "06847264",
   "metadata": {},
   "source": [
    "**19. Consider the vector [5, 4, 3, 2, 1], how to build a new vector with 3 consecutive zeros interleaved between each value?**"
   ]
  },
  {
   "cell_type": "code",
   "execution_count": 20,
   "id": "71c53d9d",
   "metadata": {},
   "outputs": [
    {
     "name": "stdout",
     "output_type": "stream",
     "text": [
      "[5. 4. 3. 2. 1.]\n",
      "[5. 0. 0. 0. 4. 0. 0. 0. 3. 0. 0. 0. 2. 0. 0. 0. 1.]\n"
     ]
    }
   ],
   "source": [
    "#Comment\n",
    "Z = np.linspace(1, 5, 5)[::-1]\n",
    "print(Z)\n",
    "# Include your solution below\n",
    "nz = 3\n",
    "Z0 = np.zeros(len(Z) + (len(Z)-1)*(nz))\n",
    "Z0[::nz+1] = Z\n",
    "print(Z0)"
   ]
  },
  {
   "cell_type": "markdown",
   "id": "fd904907",
   "metadata": {},
   "source": [
    "**20. Consider an array of dimension (5,5,3), how to mulitply it element-wise by an array with dimensions (5,5) - i.e., (5,5,0)$\\times$(5,5), (5,5,1)$\\times$(5,5), (5,5,2)$\\times$(5,5)**"
   ]
  },
  {
   "cell_type": "code",
   "execution_count": 21,
   "id": "838ea4f6",
   "metadata": {},
   "outputs": [
    {
     "name": "stdout",
     "output_type": "stream",
     "text": [
      "[[[2. 2. 2.]\n",
      "  [2. 2. 2.]\n",
      "  [2. 2. 2.]\n",
      "  [2. 2. 2.]\n",
      "  [2. 2. 2.]]\n",
      "\n",
      " [[2. 2. 2.]\n",
      "  [2. 2. 2.]\n",
      "  [2. 2. 2.]\n",
      "  [2. 2. 2.]\n",
      "  [2. 2. 2.]]\n",
      "\n",
      " [[2. 2. 2.]\n",
      "  [2. 2. 2.]\n",
      "  [2. 2. 2.]\n",
      "  [2. 2. 2.]\n",
      "  [2. 2. 2.]]\n",
      "\n",
      " [[2. 2. 2.]\n",
      "  [2. 2. 2.]\n",
      "  [2. 2. 2.]\n",
      "  [2. 2. 2.]\n",
      "  [2. 2. 2.]]\n",
      "\n",
      " [[2. 2. 2.]\n",
      "  [2. 2. 2.]\n",
      "  [2. 2. 2.]\n",
      "  [2. 2. 2.]\n",
      "  [2. 2. 2.]]]\n"
     ]
    }
   ],
   "source": [
    "#Comment\n",
    "A = np.ones((5,5,3))\n",
    "B = 2*np.ones((5,5))\n",
    "# Include your solution below\n",
    "print(A * B[:,:,None])"
   ]
  },
  {
   "cell_type": "markdown",
   "id": "8a203e2c",
   "metadata": {},
   "source": [
    "**21. Swap the first and second rows of the 2D array below**"
   ]
  },
  {
   "cell_type": "code",
   "execution_count": 22,
   "id": "c0efe5d7",
   "metadata": {},
   "outputs": [
    {
     "name": "stdout",
     "output_type": "stream",
     "text": [
      "[[ 0  1  2  3  4]\n",
      " [ 5  6  7  8  9]\n",
      " [10 11 12 13 14]\n",
      " [15 16 17 18 19]\n",
      " [20 21 22 23 24]\n",
      " [25 26 27 28 29]]\n",
      "\n",
      "[[ 5  6  7  8  9]\n",
      " [ 0  1  2  3  4]\n",
      " [10 11 12 13 14]\n",
      " [15 16 17 18 19]\n",
      " [20 21 22 23 24]\n",
      " [25 26 27 28 29]]\n"
     ]
    }
   ],
   "source": [
    "#Comment\n",
    "W = np.arange(30).reshape(6,5)\n",
    "print(W)\n",
    "print()\n",
    "# Include your solution below\n",
    "W[[0,1]] = W[[1,0]]\n",
    "print(W)"
   ]
  },
  {
   "cell_type": "markdown",
   "id": "8ba36b5b",
   "metadata": {},
   "source": [
    "**22. Write a function that receives as input a 2D Boolean NumPy array and outputs the coordinates of the minimal bounding-box\n",
    "that encloses all non-zero elements in the input array**\n",
    "\n",
    "**Tip:** search for the functions nonzero and where in the NumPy documentation.\n",
    "\n",
    "\n",
    "<img src=\"./Figures/bbox.png\" width=\"150\" /> "
   ]
  },
  {
   "cell_type": "code",
   "execution_count": 23,
   "id": "ca6bc5a0",
   "metadata": {},
   "outputs": [
    {
     "name": "stdout",
     "output_type": "stream",
     "text": [
      "((29, 50), (342, 431))\n"
     ]
    }
   ],
   "source": [
    "def bbox(img):\n",
    "    #include your solution below\n",
    "    a = np.where(img != 0)\n",
    "    r1,r2,c1,c2 = np.min(a[0]), np.max(a[0]), np.min(a[1]), np.max(a[1])\n",
    "    return (r1,c1),(r2,c2)\n",
    "\n",
    "from PIL import Image\n",
    "\n",
    "img = np.array(Image.open('./Figures/bin_image.png').convert('L')) > 0\n",
    "print(bbox(img))"
   ]
  },
  {
   "cell_type": "markdown",
   "id": "a1208c7d",
   "metadata": {},
   "source": [
    "**23.Write a function to compute the average over a sliding window of length N over a 1D array?**\n",
    "\n",
    "*Example:* [1,2,3,4,5,6,7,8,9], N = 3 -> [2,5,8]"
   ]
  },
  {
   "cell_type": "code",
   "execution_count": 24,
   "id": "3dae36e5",
   "metadata": {},
   "outputs": [
    {
     "name": "stdout",
     "output_type": "stream",
     "text": [
      "[ 0  1  2  3  4  5  6  7  8  9 10 11 12 13 14 15 16 17 18 19 20 21 22 23\n",
      " 24 25 26 27 28 29]\n",
      "[ 1.  4.  7. 10. 13. 16. 19. 22. 25. 28.]\n"
     ]
    }
   ],
   "source": [
    "def moving_average(x,N = 3):\n",
    "    res = [np.sum(x[i:i+N]) for i in range(0, len(x), N)]\n",
    "    return np.array(res) / N\n",
    "\n",
    "a = np.arange(30)\n",
    "print(a)\n",
    "N = 3\n",
    "print(moving_average(a,N))"
   ]
  },
  {
   "cell_type": "markdown",
   "id": "d982302c",
   "metadata": {},
   "source": [
    "**24.  Given a sorted 1D array C that corresponds to a bincount, how to produce an array A such that np.bincount(A) == C?**\n",
    "\n",
    "*Example:* C = [3,2,4] -> D = [0,0,0,1,1,2,2,2,2]\n",
    "\n",
    "*Tip:* Consider using the NumPy repeat function"
   ]
  },
  {
   "cell_type": "code",
   "execution_count": 25,
   "id": "7fbc5a7f",
   "metadata": {},
   "outputs": [
    {
     "name": "stdout",
     "output_type": "stream",
     "text": [
      "[0 2 1 1 2 0 1]\n",
      "[1 1 2 3 4 4 6]\n"
     ]
    }
   ],
   "source": [
    "C = np.bincount([1,1,2,3,4,4,6])\n",
    "print(C)\n",
    "# Include your solution here\n",
    "A = np.repeat(np.arange(len(C)), C)\n",
    "print(A)"
   ]
  },
  {
   "cell_type": "markdown",
   "id": "ce703bf0",
   "metadata": {},
   "source": [
    "**25. Find the most frequent value in the array below?**"
   ]
  },
  {
   "cell_type": "code",
   "execution_count": 26,
   "id": "512cba98",
   "metadata": {},
   "outputs": [
    {
     "name": "stdout",
     "output_type": "stream",
     "text": [
      "0\n"
     ]
    }
   ],
   "source": [
    "#comment\n",
    "Z = np.random.randint(0,10,50)\n",
    "# Include your solution below\n",
    "print(np.bincount(Z).argmax())"
   ]
  },
  {
   "cell_type": "markdown",
   "id": "2a2aac53",
   "metadata": {},
   "source": [
    "**26. Write a function to sum_arrurn the n largest values of an array** "
   ]
  },
  {
   "cell_type": "code",
   "execution_count": 27,
   "id": "071db015",
   "metadata": {},
   "outputs": [
    {
     "name": "stdout",
     "output_type": "stream",
     "text": [
      "49985\n"
     ]
    }
   ],
   "source": [
    "def nlargest(a,n = 5):\n",
    "    # Include your solution here\n",
    "    #a = np.sort(a)\n",
    "    #sum = np.sum(a[-n:])\n",
    "    ind = np.argpartition(a, -n)[-n:]\n",
    "    return np.sum(a[ind])\n",
    "    #return sum\n",
    "\n",
    "Z = np.arange(10000)\n",
    "np.random.shuffle(Z)\n",
    "n = 5\n",
    "print(nlargest(Z,n))    "
   ]
  },
  {
   "cell_type": "code",
   "execution_count": null,
   "id": "c9714dab-4f50-40ec-8245-284c69c361cd",
   "metadata": {},
   "outputs": [],
   "source": []
  }
 ],
 "metadata": {
  "kernelspec": {
   "display_name": "Python 3",
   "language": "python",
   "name": "python3"
  },
  "language_info": {
   "codemirror_mode": {
    "name": "ipython",
    "version": 3
   },
   "file_extension": ".py",
   "mimetype": "text/x-python",
   "name": "python",
   "nbconvert_exporter": "python",
   "pygments_lexer": "ipython3",
   "version": "3.8.8"
  }
 },
 "nbformat": 4,
 "nbformat_minor": 5
}

